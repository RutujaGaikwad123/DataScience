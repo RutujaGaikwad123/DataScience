{
  "nbformat": 4,
  "nbformat_minor": 0,
  "metadata": {
    "colab": {
      "name": "Untitled3.ipynb",
      "provenance": [],
      "authorship_tag": "ABX9TyNYr2JrmDn4OGw0gb/3+ucf",
      "include_colab_link": true
    },
    "kernelspec": {
      "name": "python3",
      "display_name": "Python 3"
    },
    "language_info": {
      "name": "python"
    }
  },
  "cells": [
    {
      "cell_type": "markdown",
      "metadata": {
        "id": "view-in-github",
        "colab_type": "text"
      },
      "source": [
        "<a href=\"https://colab.research.google.com/github/RutujaGaikwad123/DataScience/blob/main/MohrsCircle.ipynb\" target=\"_parent\"><img src=\"https://colab.research.google.com/assets/colab-badge.svg\" alt=\"Open In Colab\"/></a>"
      ]
    },
    {
      "cell_type": "code",
      "execution_count": null,
      "metadata": {
        "colab": {
          "base_uri": "https://localhost:8080/",
          "height": 835
        },
        "id": "T4tvZ1V04AvI",
        "outputId": "84a33a74-3824-47d4-93d2-24c0f99eaf23"
      },
      "outputs": [
        {
          "output_type": "stream",
          "name": "stdout",
          "text": [
            "σx = 100\n",
            "σy = 20\n",
            "τxy = 10\n",
            "stress unit = MPa\n",
            "Angle( in degrees) of plane's axis from x axis(+ve counter clockwise), θ = 45\n",
            "\n",
            "       Radius, R = √(0.25*(σx-σy)^2 + τxy^2) \n",
            "               = √(0.25*(100.0-20.0)^2 + 10.0^2)  =41.23105625617661 MPa\n",
            "\n",
            "       Average Stress,(acts at the Center of Mohr's Circle) \n",
            "               = σavg = (σx + σy)/2 = (100.0 + 20.0)/2 = 60.0 MPa\n",
            "\n",
            "       Principal Stresses\n",
            "       σ1 = σavg + R = 60.0 + 41.23105625617661 = 101.2310562561766 MPa\n",
            "       σ2 = σavg - R = 60.0 - 41.23105625617661 = 18.768943743823392 MPa\n",
            "       Angle φ1 it makes with x-axis, \n",
            "       φ1 = 0.5(atan(2*τxy/(σx - σy)) = 0.5 * atan(2*10.0/(100.0 - 20.0)) = 7.018121733963239 degrees\n",
            "       Angle σ2 makes with x-axis = φ2 = φ1 + 90 = 97.01812173396324 degrees\n",
            "\n",
            "       Maximum Shear Stress = τmax = R = 41.23105625617661 MPa\n",
            "       It occurs at, α = φ1 + 45 = 52.01812173396324 degrees\n",
            "\n",
            "       Stresses at a plane with axis at θ anticlockwise from x axis, \n",
            "        σθ1 = σavg + R* Cos(2φ1 + 2θ) = 60.0 + 41.23105625617661* Cos(15.607039794721375)\n",
            "           = 50.0, MPa\n",
            "        σθ2 = σavg + R* Cos(2φ1 + 2θ + pi) = \n",
            "            70.0 MPa\n",
            "        τθ = R*Sin(2*φ1 + 2*θ)  = 40.0 MPa\n",
            "\n",
            "       \n"
          ]
        },
        {
          "output_type": "display_data",
          "data": {
            "image/png": "[encoded data removed]",
            "text/plain": [
              "<Figure size 432x288 with 1 Axes>"
            ]
          },
          "metadata": {
            "needs_background": "light"
          }
        }
      ],
      "source": [
        "def mohcircle():\n",
        "    import numpy as np\n",
        "    import matplotlib.pyplot as plt\n",
        "    import math\n",
        "\n",
        "    σx = float(input('σx = '))\n",
        "    σy = float(input('σy = '))\n",
        "    τxy = float(input('τxy = '))\n",
        "    u = input('stress unit = ')\n",
        "    w = float(input(\"Angle( in degrees) of plane's axis from x axis(+ve counter clockwise), θ = \"))\n",
        "    θ = math.radians(w)\n",
        "    R = np.sqrt(0.25 * (σx - σy) ** 2 + (τxy) ** 2)\n",
        "    σavg = (σx + σy) / 2\n",
        "    ψ = np.linspace(0, 2 * np.pi, 360)\n",
        "    x = σavg + R * np.cos(ψ)\n",
        "    y = R * (np.sin(ψ))\n",
        "    φ1 = math.degrees(0.5 * math.atan(2 * τxy / (σx - σy)))\n",
        "    φ2 = φ1 + 90\n",
        "    σθ1 = σavg + R * np.cos(2 * np.radians(φ1) + 2 * θ)\n",
        "    σθ2 = σavg + R * np.cos(2 * np.radians(φ1) + 2 * θ + np.pi)\n",
        "    τθ = R * np.sin(2 * np.radians(φ1) + 2 * θ)\n",
        "    print(f'''\n",
        "       Radius, R = √(0.25*(σx-σy)^2 + τxy^2) \n",
        "               = √(0.25*({σx}-{σy})^2 + {τxy}^2)  ={R} {u}\n",
        "\n",
        "       Average Stress,(acts at the Center of Mohr's Circle) \n",
        "               = σavg = (σx + σy)/2 = ({σx} + {σy})/2 = {σavg} {u}\n",
        "\n",
        "       Principal Stresses\n",
        "       σ1 = σavg + R = {σavg} + {R} = {σavg + R} {u}\n",
        "       σ2 = σavg - R = {σavg} - {R} = {σavg - R} {u}\n",
        "       Angle φ1 it makes with x-axis, \n",
        "       φ1 = 0.5(atan(2*τxy/(σx - σy)) = 0.5 * atan(2*{τxy}/({σx} - {σy})) = {φ1} degrees\n",
        "       Angle σ2 makes with x-axis = φ2 = φ1 + 90 = {φ2} degrees\n",
        "\n",
        "       Maximum Shear Stress = τmax = R = {R} {u}\n",
        "       It occurs at, α = φ1 + 45 = {φ1 + 45} degrees\n",
        "\n",
        "       Stresses at a plane with axis at θ anticlockwise from x axis, \n",
        "        σθ1 = σavg + R* Cos(2φ1 + 2θ) = {σavg} + {R}* Cos({2 * φ1 + 2 * θ})\n",
        "           = {σθ1}, {u}\n",
        "        σθ2 = σavg + R* Cos(2φ1 + 2θ + pi) = \n",
        "            {σθ2} {u}\n",
        "        τθ = R*Sin(2*φ1 + 2*θ)  = {R * np.sin(2 * np.radians(φ1) + 2 * θ)} {u}\n",
        "\n",
        "       ''')\n",
        "\n",
        "    plt.plot(x, y)\n",
        "    plt.plot([σavg - R - 10, σavg + R + 10], [0, 0], linestyle='--', color='black')\n",
        "    plt.plot([σavg, σavg], [-R - 10, R + 10], linestyle='--', color='black')\n",
        "    plt.plot([σx, σy], [τxy, -τxy], [σx, σx], [0, τxy], [σy, σy], [0, -τxy], linestyle='-', color='brown')\n",
        "    plt.plot([σθ1, σθ2], [τθ, -τθ], [σθ1, σθ1], [0, τθ], [σθ2, σθ2], [0, -τθ], linestyle='--', color='red')\n",
        "    plt.xlabel('σ (MPa)')\n",
        "    plt.ylabel('τ (MPa)')\n",
        "    plt.title(\"Mohr's Circle\")\n",
        "    plt.show()\n",
        "\n",
        "mohcircle()\n",
        "v = input('Exit? y/n ')\n",
        "while v == \"n\":\n",
        "    mohcircle()\n",
        "    v = input('Exit? y/n ')\n",
        "exit()\n"
      ]
    }
  ]
}